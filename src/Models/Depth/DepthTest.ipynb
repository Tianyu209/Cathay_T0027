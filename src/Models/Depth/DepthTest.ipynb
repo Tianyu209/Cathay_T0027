{
 "cells": [
  {
   "cell_type": "code",
   "execution_count": null,
   "metadata": {},
   "outputs": [],
   "source": [
    "import src.Folder.DepthEstimator as dm\n",
    "model = dm.DepthEstimator()\n",
    "model.estimate_depth(url = r\"https://th.bing.com/th/id/OIP.65J4HM4LFzGWtQ4AU-vjtQHaGF?w=204&h=180&c=7&r=0&o=5&dpr=1.6&pid=1.7\")"
   ]
  }
 ],
 "metadata": {
  "kernelspec": {
   "display_name": "base",
   "language": "python",
   "name": "python3"
  },
  "language_info": {
   "codemirror_mode": {
    "name": "ipython",
    "version": 3
   },
   "file_extension": ".py",
   "mimetype": "text/x-python",
   "name": "python",
   "nbconvert_exporter": "python",
   "pygments_lexer": "ipython3",
   "version": "3.12.4"
  }
 },
 "nbformat": 4,
 "nbformat_minor": 2
}
