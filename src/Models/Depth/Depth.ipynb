{
 "cells": [
  {
   "cell_type": "code",
   "execution_count": null,
   "metadata": {},
   "outputs": [],
   "source": [
    "from datasets import load_dataset\n",
    "\n",
    "train_dataset = load_dataset(\"sayakpaul/nyu_depth_v2\", split=\"train\")\n",
    "index = 17\n",
    "example = train_dataset[index]\n"
   ]
  },
  {
   "cell_type": "code",
   "execution_count": null,
   "metadata": {},
   "outputs": [],
   "source": [
    "example[\"image\"]\n"
   ]
  },
  {
   "cell_type": "code",
   "execution_count": null,
   "metadata": {},
   "outputs": [],
   "source": [
    "example[\"depth_map\"].convert(\"RGB\")"
   ]
  },
  {
   "cell_type": "code",
   "execution_count": null,
   "metadata": {},
   "outputs": [],
   "source": [
    "import numpy as np\n",
    "import matplotlib.pyplot as plt\n",
    "\n",
    "cmap = plt.cm.viridis\n",
    "\n",
    "def colored_depthmap(depth, d_min=None, d_max=None):\n",
    "    if d_min is None:\n",
    "        d_min = np.min(depth)\n",
    "    if d_max is None:\n",
    "        d_max = np.max(depth)\n",
    "    depth_relative = (depth - d_min) / (d_max - d_min)\n",
    "    return 255 * cmap(depth_relative)[:,:,:3]\n",
    "\n",
    "def show_depthmap(depth_map):\n",
    "   if not isinstance(depth_map, np.ndarray):\n",
    "       depth_map = np.array(depth_map)\n",
    "   if depth_map.ndim == 3:\n",
    "       depth_map = depth_map.squeeze()\n",
    "\n",
    "   d_min = np.min(depth_map)\n",
    "   d_max = np.max(depth_map)\n",
    "   depth_map = colored_depthmap(depth_map, d_min, d_max)\n",
    "\n",
    "   plt.imshow(depth_map.astype(\"uint8\"))\n",
    "   plt.axis(\"off\")\n",
    "   plt.show()\n",
    "\n",
    "show_depthmap(example[\"depth_map\"])\n"
   ]
  },
  {
   "cell_type": "code",
   "execution_count": null,
   "metadata": {},
   "outputs": [],
   "source": [
    "def merge_into_row(input_image, depth_target):\n",
    "    if not isinstance(input_image, np.ndarray):\n",
    "        input_image = np.array(input_image)\n",
    "    d_min = np.min(depth_target)\n",
    "    d_max = np.max(depth_target)\n",
    "    depth_target_col = colored_depthmap(depth_target, d_min, d_max)\n",
    "    img_merge = np.hstack([input_image, depth_target_col])\n",
    "    return img_merge\n",
    "\n",
    "random_indices = np.random.choice(len(train_dataset), 9).tolist()\n",
    "plt.figure(figsize=(15, 6))\n",
    "for i, idx in enumerate(random_indices):\n",
    "    example = train_dataset[idx]\n",
    "    ax = plt.subplot(3, 3, i + 1)\n",
    "    image_viz = merge_into_row(\n",
    "        example[\"image\"], example[\"depth_map\"]\n",
    "    )\n",
    "    plt.imshow(image_viz.astype(\"uint8\"))\n",
    "    plt.axis(\"off\")"
   ]
  },
  {
   "cell_type": "code",
   "execution_count": null,
   "metadata": {},
   "outputs": [
    {
     "name": "stderr",
     "output_type": "stream",
     "text": [
      "Hardware accelerator e.g. GPU is available in the environment, but no `device` argument is passed to the `Pipeline` object. Model will be on CPU.\n"
     ]
    }
   ],
   "source": []
  }
 ],
 "metadata": {
  "kernelspec": {
   "display_name": "base",
   "language": "python",
   "name": "python3"
  },
  "language_info": {
   "codemirror_mode": {
    "name": "ipython",
    "version": 3
   },
   "file_extension": ".py",
   "mimetype": "text/x-python",
   "name": "python",
   "nbconvert_exporter": "python",
   "pygments_lexer": "ipython3",
   "version": "3.12.4"
  }
 },
 "nbformat": 4,
 "nbformat_minor": 2
}
